{
 "cells": [
  {
   "cell_type": "markdown",
   "metadata": {},
   "source": [
    "## Отчет по первой части"
   ]
  },
  {
   "cell_type": "code",
   "execution_count": 1,
   "metadata": {},
   "outputs": [],
   "source": [
    "from methods import *\n",
    "\n",
    "x = np.array([5, 5, 5])\n",
    "gesse = np.array([\n",
    "    [\n",
    "        finite_difference2(x, np.array((1, 0, 0)), np.array((1, 0, 0))),\n",
    "        finite_difference2(x, np.array((1, 0, 0)), np.array((0, 1, 0))),\n",
    "        finite_difference2(x, np.array((1, 0, 0)), np.array((0, 0, 1)))\n",
    "    ],\n",
    "    [\n",
    "        finite_difference2(x, np.array((0, 1, 0)), np.array((1, 0, 0))),\n",
    "        finite_difference2(x, np.array((0, 1, 0)), np.array((0, 1, 0))),\n",
    "        finite_difference2(x, np.array((0, 1, 0)), np.array((0, 0, 1)))\n",
    "    ],\n",
    "    [\n",
    "        finite_difference2(x, np.array((0, 0, 1)), np.array((1, 0, 0))),\n",
    "        finite_difference2(x, np.array((0, 0, 1)), np.array((0, 1, 0))),\n",
    "        finite_difference2(x, np.array((0, 0, 1)), np.array((0, 0, 1)))\n",
    "    ]\n",
    "])"
   ]
  },
  {
   "cell_type": "code",
   "execution_count": 2,
   "metadata": {},
   "outputs": [],
   "source": [
    "epsilon = 1e-4\n",
    "c1 = 0.0001\n",
    "c2 = 0.9\n",
    "a_max = 1\n",
    "max_iter = 10000\n",
    "search_max_iter = 100\n",
    "mem_limit = 10\n",
    "initial_gesse = np.eye(3)\n",
    "analitic_gesse = np.array([\n",
    "    [0.75, 0.5, 0.25],\n",
    "    [0.5, 1, 0.5],\n",
    "    [0.25, 0.5, 0.75]\n",
    "])"
   ]
  },
  {
   "cell_type": "code",
   "execution_count": 3,
   "metadata": {},
   "outputs": [
    {
     "name": "stdout",
     "output_type": "stream",
     "text": [
      "Task 1.1\n",
      "Алгоритмы BFGS и L-BFGS применимы к этой задаче, так как функция f(x) является дважды дифференцируемой выпуклой функцией.\n",
      "\n",
      "Task 1.2\n",
      "BFGS (a) x=[0.7500026  0.49999919 0.25000293], f(x)=-0.3749999999794626 iter=7\n",
      "BFGS (b) x=[0.7500026  0.49999919 0.25000293], f(x)=-0.3749999999794626 iter=7\n",
      "L-BFGS (a) x=[0.75000832 0.49999473 0.2500365 ], f(x)=-0.3749999983346668 iter=7\n",
      "L-BFGS (b) x=[0.75000832 0.49999473 0.2500365 ], f(x)=-0.3749999983346668 iter=7\n",
      "\n",
      "Task 1.3\n",
      "Approximate Gesse matrix\n",
      "[[ 4. -2.  0.]\n",
      " [-2.  4. -2.]\n",
      " [ 0. -2.  4.]]\n",
      "BFGS x=[0.74996431 0.499974   0.24996614], f(x)=-0.3749999987116779 iter=8\n",
      "\n",
      "Analitic Gesse matrix\n",
      "[[0.75 0.5  0.25]\n",
      " [0.5  1.   0.5 ]\n",
      " [0.25 0.5  0.75]]\n",
      "BFGS x=[0.75 0.5  0.25], f(x)=-0.375 iter=1\n",
      "\n"
     ]
    }
   ],
   "source": [
    "\n",
    "print(\"Task 1.1\")\n",
    "print(\"Алгоритмы BFGS и L-BFGS применимы к этой задаче, так как функция f(x) является дважды дифференцируемой выпуклой функцией.\")\n",
    "print()\n",
    "print(\"Task 1.2\")\n",
    "\n",
    "point, iter = bfgs(f, g, initial_gesse, x, epsilon, c1, c2, a_max, max_iter, search_max_iter)\n",
    "print(f'BFGS (a) x={point}, f(x)={f(point)} iter={iter}')\n",
    "\n",
    "point, iter = bfgs(f, numerical_g, initial_gesse, x, epsilon, c1, c2, a_max, max_iter, search_max_iter)\n",
    "print(f'BFGS (b) x={point}, f(x)={f(point)} iter={iter}')\n",
    "\n",
    "point, iter = lbfgs(g, initial_gesse, x, epsilon, max_iter, mem_limit)\n",
    "print(f'L-BFGS (a) x={point}, f(x)={f(point)} iter={iter}')\n",
    "\n",
    "point, iter = lbfgs(numerical_g, initial_gesse, x, epsilon, max_iter, mem_limit)\n",
    "print(f'L-BFGS (b) x={point}, f(x)={f(point)} iter={iter}')\n",
    "print()\n",
    "print(\"Task 1.3\")\n",
    "print(\"Approximate Gesse matrix\")\n",
    "print(gesse)\n",
    "point, iter = bfgs(f, g, gesse, x, epsilon, c1, c2, a_max, max_iter, search_max_iter)\n",
    "print(f'BFGS x={point}, f(x)={f(point)} iter={iter}')\n",
    "print()\n",
    "print(\"Analitic Gesse matrix\")\n",
    "print(analitic_gesse)\n",
    "point, iter = bfgs(f, g, analitic_gesse, x, epsilon, c1, c2, a_max, max_iter, search_max_iter)\n",
    "print(f'BFGS x={point}, f(x)={f(point)} iter={iter}')\n",
    "print()\n"
   ]
  }
 ],
 "metadata": {
  "kernelspec": {
   "display_name": "venv",
   "language": "python",
   "name": "python3"
  },
  "language_info": {
   "codemirror_mode": {
    "name": "ipython",
    "version": 3
   },
   "file_extension": ".py",
   "mimetype": "text/x-python",
   "name": "python",
   "nbconvert_exporter": "python",
   "pygments_lexer": "ipython3",
   "version": "3.11.8"
  }
 },
 "nbformat": 4,
 "nbformat_minor": 2
}
