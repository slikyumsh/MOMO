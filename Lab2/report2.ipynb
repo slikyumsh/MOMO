{
 "cells": [
  {
   "cell_type": "markdown",
   "metadata": {},
   "source": [
    "## Вторая часть отчета"
   ]
  },
  {
   "cell_type": "code",
   "execution_count": 1,
   "metadata": {},
   "outputs": [],
   "source": [
    "import numpy as np\n",
    "from sklearn import datasets\n",
    "from sklearn.preprocessing import StandardScaler\n",
    "from sklearn.model_selection import train_test_split\n",
    "from sklearn.metrics import accuracy_score\n",
    "\n",
    "# Загрузка данных\n",
    "iris = datasets.load_iris()\n",
    "X = iris.data\n",
    "y = iris.target\n",
    "\n",
    "# Стандартизация признаков\n",
    "scaler = StandardScaler()\n",
    "X = scaler.fit_transform(X)\n",
    "\n",
    "# Разделение данных на обучающую и тестовую выборки\n",
    "X_train, X_test, y_train, y_test = train_test_split(X, y, test_size=0.2, random_state=42)\n"
   ]
  },
  {
   "cell_type": "code",
   "execution_count": 2,
   "metadata": {},
   "outputs": [],
   "source": [
    "class Perceptron:\n",
    "    def __init__(self, input_size, num_classes):\n",
    "        # Инициализируем веса случайными значениями\n",
    "        self.W = np.random.randn(input_size, num_classes)\n",
    "        self.b = np.zeros((1, num_classes))\n",
    "    \n",
    "    def forward(self, X):\n",
    "        # Прямой проход: линейная комбинация входов и весов\n",
    "        logits = np.dot(X, self.W) + self.b\n",
    "        return logits\n",
    "    \n",
    "    def predict(self, X):\n",
    "        logits = self.forward(X)\n",
    "        probs = self.softmax(logits)\n",
    "        return np.argmax(probs, axis=1)\n",
    "    \n",
    "    def softmax(self, logits):\n",
    "        exps = np.exp(logits - np.max(logits, axis=1, keepdims=True))\n",
    "        return exps / np.sum(exps, axis=1, keepdims=True)\n"
   ]
  },
  {
   "cell_type": "code",
   "execution_count": 3,
   "metadata": {},
   "outputs": [
    {
     "name": "stdout",
     "output_type": "stream",
     "text": [
      "Итерация 0, Потери: 1.3051112057615617\n",
      "Итерация 10, Потери: 1.2859461164939914\n",
      "Итерация 20, Потери: 1.2663014858381412\n",
      "Итерация 30, Потери: 1.247245960801503\n",
      "Итерация 40, Потери: 1.228821397514758\n",
      "Итерация 50, Потери: 1.2110093732743688\n",
      "Итерация 60, Потери: 1.1937830177795907\n",
      "Итерация 70, Потери: 1.1771144548694683\n",
      "Итерация 80, Потери: 1.1609764366926147\n",
      "Итерация 90, Потери: 1.1453428954226719\n"
     ]
    }
   ],
   "source": [
    "from optimayzers import bfgs_optimizer, lbfgs_optimizer\n",
    "\n",
    "# Инициализируем модель\n",
    "input_size = X_train.shape[1]\n",
    "num_classes = len(np.unique(y_train))\n",
    "model = Perceptron(input_size, num_classes)\n",
    "\n",
    "# Обучаем модель с помощью вашего оптимизатора\n",
    "bfgs_optimizer(model, X_train, y_train, num_iters=100)\n"
   ]
  },
  {
   "cell_type": "code",
   "execution_count": 4,
   "metadata": {},
   "outputs": [
    {
     "data": {
      "text/plain": [
       "0.36666666666666664"
      ]
     },
     "execution_count": 4,
     "metadata": {},
     "output_type": "execute_result"
    }
   ],
   "source": [
    "accuracy_score(model.predict(X_test), y_test)"
   ]
  },
  {
   "cell_type": "code",
   "execution_count": 5,
   "metadata": {},
   "outputs": [
    {
     "name": "stdout",
     "output_type": "stream",
     "text": [
      "Итерация 0, Потери: 1.027657732980742\n",
      "Итерация 10, Потери: 1.0076016376913641\n",
      "Итерация 20, Потери: 0.9879847623702427\n",
      "Итерация 30, Потери: 0.9694158672760608\n",
      "Итерация 40, Потери: 0.9518171403999898\n",
      "Итерация 50, Потери: 0.9351080289087149\n",
      "Итерация 60, Потери: 0.9192159523123652\n",
      "Итерация 70, Потери: 0.9040759076855622\n",
      "Итерация 80, Потери: 0.8896296060485718\n",
      "Итерация 90, Потери: 0.8758246686459148\n"
     ]
    }
   ],
   "source": [
    "model1 = Perceptron(input_size, num_classes)\n",
    "lbfgs_optimizer(model1, X_train, y_train, num_iters=100)"
   ]
  },
  {
   "cell_type": "code",
   "execution_count": 6,
   "metadata": {},
   "outputs": [
    {
     "data": {
      "text/plain": [
       "0.5333333333333333"
      ]
     },
     "execution_count": 6,
     "metadata": {},
     "output_type": "execute_result"
    }
   ],
   "source": [
    "accuracy_score(model1.predict(X_test), y_test)"
   ]
  }
 ],
 "metadata": {
  "kernelspec": {
   "display_name": "venv",
   "language": "python",
   "name": "python3"
  },
  "language_info": {
   "codemirror_mode": {
    "name": "ipython",
    "version": 3
   },
   "file_extension": ".py",
   "mimetype": "text/x-python",
   "name": "python",
   "nbconvert_exporter": "python",
   "pygments_lexer": "ipython3",
   "version": "3.11.8"
  }
 },
 "nbformat": 4,
 "nbformat_minor": 2
}
