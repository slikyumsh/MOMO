{
 "cells": [
  {
   "cell_type": "markdown",
   "metadata": {},
   "source": [
    "## Вторая часть отчета"
   ]
  },
  {
   "cell_type": "code",
   "execution_count": 1,
   "metadata": {},
   "outputs": [],
   "source": [
    "import numpy as np\n",
    "from sklearn import datasets\n",
    "from sklearn.preprocessing import StandardScaler\n",
    "from sklearn.model_selection import train_test_split\n",
    "from sklearn.metrics import accuracy_score\n",
    "\n",
    "# Загрузка данных\n",
    "iris = datasets.load_iris()\n",
    "X = iris.data\n",
    "y = iris.target\n",
    "\n",
    "# Стандартизация признаков\n",
    "scaler = StandardScaler()\n",
    "X = scaler.fit_transform(X)\n",
    "\n",
    "# Разделение данных на обучающую и тестовую выборки\n",
    "X_train, X_test, y_train, y_test = train_test_split(X, y, test_size=0.2, random_state=42)\n"
   ]
  },
  {
   "cell_type": "code",
   "execution_count": 2,
   "metadata": {},
   "outputs": [],
   "source": [
    "class Perceptron:\n",
    "    def __init__(self, input_size, num_classes):\n",
    "        # Инициализируем веса случайными значениями\n",
    "        self.W = np.random.randn(input_size, num_classes)\n",
    "        self.b = np.zeros((1, num_classes))\n",
    "    \n",
    "    def forward(self, X):\n",
    "        # Прямой проход: линейная комбинация входов и весов\n",
    "        logits = np.dot(X, self.W) + self.b\n",
    "        return logits\n",
    "    \n",
    "    def predict(self, X):\n",
    "        logits = self.forward(X)\n",
    "        probs = self.softmax(logits)\n",
    "        return np.argmax(probs, axis=1)\n",
    "    \n",
    "    def softmax(self, logits):\n",
    "        exps = np.exp(logits - np.max(logits, axis=1, keepdims=True))\n",
    "        return exps / np.sum(exps, axis=1, keepdims=True)\n"
   ]
  },
  {
   "cell_type": "code",
   "execution_count": 3,
   "metadata": {},
   "outputs": [
    {
     "name": "stdout",
     "output_type": "stream",
     "text": [
      "Итерация 0, Потери: 1.2296775963501523\n",
      "Итерация 10, Потери: 1.2131618705695042\n",
      "Итерация 20, Потери: 1.1919248843501364\n",
      "Итерация 30, Потери: 1.1693371620232893\n",
      "Итерация 40, Потери: 1.1466496835161488\n",
      "Итерация 50, Потери: 1.1244835513980684\n",
      "Итерация 60, Потери: 1.103099720861107\n",
      "Итерация 70, Потери: 1.0825785309722424\n",
      "Итерация 80, Потери: 1.062917722905589\n",
      "Итерация 90, Потери: 1.0440807887232681\n"
     ]
    }
   ],
   "source": [
    "from optimayzers import *\n",
    "\n",
    "input_size = X_train.shape[1]\n",
    "num_classes = len(np.unique(y_train))\n",
    "model = Perceptron(input_size, num_classes)\n",
    "\n",
    "bfgs_optimizer(model, X_train, y_train, num_iters=100)\n",
    "accuracy_score(model.predict(X_test), y_test)"
   ]
  },
  {
   "cell_type": "code",
   "execution_count": 5,
   "metadata": {},
   "outputs": [
    {
     "name": "stdout",
     "output_type": "stream",
     "text": [
      "Итерация 0, Потери: 0.971288687663759\n",
      "Итерация 10, Потери: 0.9546632850591134\n",
      "Итерация 20, Потери: 0.9310820083154822\n",
      "Итерация 30, Потери: 0.9069717421588279\n",
      "Итерация 40, Потери: 0.8847665721345118\n",
      "Итерация 50, Потери: 0.8643060047561896\n",
      "Итерация 60, Потери: 0.8453900291800726\n",
      "Итерация 70, Потери: 0.8278423773984154\n",
      "Итерация 80, Потери: 0.811488648683053\n",
      "Итерация 90, Потери: 0.7961898797814898\n"
     ]
    }
   ],
   "source": [
    "model1 = Perceptron(input_size, num_classes)\n",
    "lbfgs_optimizer(model1, X_train, y_train, num_iters=100)\n",
    "accuracy_score(model1.predict(X_test), y_test)"
   ]
  },
  {
   "cell_type": "code",
   "execution_count": 7,
   "metadata": {},
   "outputs": [
    {
     "name": "stdout",
     "output_type": "stream",
     "text": [
      "Итерация 10, Потери: 2.14147793298595\n",
      "Итерация 20, Потери: 1.714135199192991\n",
      "Итерация 30, Потери: 1.3654428893683161\n",
      "Итерация 40, Потери: 1.1002998132502182\n",
      "Итерация 50, Потери: 0.9116420410424306\n",
      "Итерация 60, Потери: 0.7807956248015416\n",
      "Итерация 70, Потери: 0.6886778640446295\n",
      "Итерация 80, Потери: 0.6219519660258717\n",
      "Итерация 90, Потери: 0.5721647414947221\n",
      "Итерация 100, Потери: 0.5339210027410513\n"
     ]
    }
   ],
   "source": [
    "model2 = Perceptron(input_size, num_classes)\n",
    "adam_optimizer(model2, X_train, y_train, num_iters=100)\n",
    "accuracy_score(model2.predict(X_test), y_test)"
   ]
  }
 ],
 "metadata": {
  "kernelspec": {
   "display_name": "venv",
   "language": "python",
   "name": "python3"
  },
  "language_info": {
   "codemirror_mode": {
    "name": "ipython",
    "version": 3
   },
   "file_extension": ".py",
   "mimetype": "text/x-python",
   "name": "python",
   "nbconvert_exporter": "python",
   "pygments_lexer": "ipython3",
   "version": "3.11.8"
  }
 },
 "nbformat": 4,
 "nbformat_minor": 2
}
