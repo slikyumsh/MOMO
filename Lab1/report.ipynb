{
 "cells": [
  {
   "cell_type": "markdown",
   "metadata": {},
   "source": [
    "## Подготовка данных"
   ]
  },
  {
   "cell_type": "markdown",
   "metadata": {},
   "source": [
    "Добавим в стандартный датасет Iris 20 случайных признаков с разными распределениями. Таким образом, мы сможем отследить качесвто и важность использования метода главных компонент."
   ]
  },
  {
   "cell_type": "code",
   "execution_count": 33,
   "metadata": {},
   "outputs": [],
   "source": [
    "from sklearn.datasets import load_iris\n",
    "from sklearn.model_selection import train_test_split\n",
    "from sklearn.preprocessing import StandardScaler\n",
    "from sklearn.neural_network import MLPClassifier\n",
    "from sklearn.metrics import accuracy_score, classification_report\n",
    "import numpy as np\n",
    "import pandas as pd\n",
    "import time\n",
    "import warnings\n",
    "\n",
    "warnings.filterwarnings(\"ignore\")\n",
    "\n",
    "iris = load_iris()\n",
    "X_base = pd.DataFrame(iris.data, columns=iris.feature_names)\n",
    "y = iris.target\n",
    "\n",
    "np.random.seed(42)  \n",
    "random_features = pd.DataFrame()\n",
    "\n",
    "for i in range(5):\n",
    "    random_features[f'normal_{i+1}'] = np.random.normal(0, 1, size=X_base.shape[0])\n",
    "    random_features[f'uniform_{i+1}'] = np.random.uniform(0, 1, size=X_base.shape[0])\n",
    "    random_features[f'exponential_{i+1}'] = np.random.exponential(1.0, size=X_base.shape[0])\n",
    "    random_features[f'lognormal_{i+1}'] = np.random.lognormal(0, 1, size=X_base.shape[0])\n",
    "\n",
    "X_combined = pd.concat([X_base, random_features], axis=1)\n",
    "\n",
    "scaler = StandardScaler()\n",
    "X_combined_scaled = scaler.fit_transform(X_combined)\n",
    "\n",
    "X_train, X_test, y_train, y_test = train_test_split(X_combined_scaled, y, test_size=0.3, random_state=42)"
   ]
  },
  {
   "cell_type": "markdown",
   "metadata": {},
   "source": [
    "Напишим функция для обучения, предсказания и снятия метрик модели многослойного перцептрона."
   ]
  },
  {
   "cell_type": "code",
   "execution_count": 34,
   "metadata": {},
   "outputs": [],
   "source": [
    "def evaluate_model(X_train, X_test, y_train, y_test):\n",
    "    model = MLPClassifier(hidden_layer_sizes=(10,), max_iter=300, random_state=42)\n",
    "    \n",
    "    start_time = time.time()\n",
    "    model.fit(X_train, y_train)\n",
    "    training_time = time.time() - start_time\n",
    "    \n",
    "    y_pred_train = model.predict(X_train)\n",
    "    y_pred_test = model.predict(X_test)\n",
    "    \n",
    "    metrics = {\n",
    "        'Training Time (s)': training_time,\n",
    "        'Train Accuracy': accuracy_score(y_train, y_pred_train),\n",
    "        'Test Accuracy': accuracy_score(y_test, y_pred_test)\n",
    "    }\n",
    "    \n",
    "    return metrics\n"
   ]
  },
  {
   "cell_type": "markdown",
   "metadata": {},
   "source": [
    "Результаты до использования метода главных компонент"
   ]
  },
  {
   "cell_type": "code",
   "execution_count": 35,
   "metadata": {},
   "outputs": [
    {
     "data": {
      "text/markdown": [
       "### Метрики до применения PCA\n",
       "- **Training Time (s)**: 0.0415043830871582\n",
       "- **Train Accuracy**: 0.9428571428571428\n",
       "- **Test Accuracy**: 0.6666666666666666\n"
      ],
      "text/plain": [
       "<IPython.core.display.Markdown object>"
      ]
     },
     "metadata": {},
     "output_type": "display_data"
    }
   ],
   "source": [
    "from IPython.display import display, Markdown\n",
    "\n",
    "def display_metrics(metrics, title=\"Метрики\"):\n",
    "    metrics_str = f\"### {title}\\n\"\n",
    "    for key, value in metrics.items():\n",
    "        metrics_str += f\"- **{key}**: {value}\\n\"\n",
    "    display(Markdown(metrics_str))\n",
    "\n",
    "original_metrics = evaluate_model(X_train, X_test, y_train, y_test)\n",
    "display_metrics(original_metrics, title=\"Метрики до применения PCA\")"
   ]
  },
  {
   "cell_type": "code",
   "execution_count": 36,
   "metadata": {},
   "outputs": [
    {
     "data": {
      "text/markdown": [
       "### Метрики после применения PCA\n",
       "- **Training Time (s)**: 0.03858780860900879\n",
       "- **Train Accuracy**: 0.8761904761904762\n",
       "- **Test Accuracy**: 0.9111111111111111\n"
      ],
      "text/plain": [
       "<IPython.core.display.Markdown object>"
      ]
     },
     "metadata": {},
     "output_type": "display_data"
    }
   ],
   "source": [
    "from FastPCA import PCASturm\n",
    "pca_sturm = PCASturm(X_train)  \n",
    "N = 5\n",
    "X_train_pca, eigenvalues, eigenvectors = pca_sturm.pca_sturm(n_components=N)\n",
    "X_test_pca = (X_test @ eigenvectors[:, :N])\n",
    "pca_metrics = evaluate_model(X_train_pca, X_test_pca, y_train, y_test)\n",
    "display_metrics(pca_metrics, title=\"Метрики после применения PCA\")\n",
    "\n"
   ]
  },
  {
   "cell_type": "code",
   "execution_count": 38,
   "metadata": {},
   "outputs": [
    {
     "data": {
      "text/html": [
       "<div>\n",
       "<style scoped>\n",
       "    .dataframe tbody tr th:only-of-type {\n",
       "        vertical-align: middle;\n",
       "    }\n",
       "\n",
       "    .dataframe tbody tr th {\n",
       "        vertical-align: top;\n",
       "    }\n",
       "\n",
       "    .dataframe thead th {\n",
       "        text-align: right;\n",
       "    }\n",
       "</style>\n",
       "<table border=\"1\" class=\"dataframe\">\n",
       "  <thead>\n",
       "    <tr style=\"text-align: right;\">\n",
       "      <th></th>\n",
       "      <th>Principal Component</th>\n",
       "      <th>Explained Variance Ratio</th>\n",
       "    </tr>\n",
       "  </thead>\n",
       "  <tbody>\n",
       "    <tr>\n",
       "      <th>0</th>\n",
       "      <td>PC1</td>\n",
       "      <td>0.2</td>\n",
       "    </tr>\n",
       "    <tr>\n",
       "      <th>1</th>\n",
       "      <td>PC2</td>\n",
       "      <td>0.2</td>\n",
       "    </tr>\n",
       "    <tr>\n",
       "      <th>2</th>\n",
       "      <td>PC3</td>\n",
       "      <td>0.2</td>\n",
       "    </tr>\n",
       "    <tr>\n",
       "      <th>3</th>\n",
       "      <td>PC4</td>\n",
       "      <td>0.2</td>\n",
       "    </tr>\n",
       "    <tr>\n",
       "      <th>4</th>\n",
       "      <td>PC5</td>\n",
       "      <td>0.2</td>\n",
       "    </tr>\n",
       "  </tbody>\n",
       "</table>\n",
       "</div>"
      ],
      "text/plain": [
       "  Principal Component  Explained Variance Ratio\n",
       "0                 PC1                       0.2\n",
       "1                 PC2                       0.2\n",
       "2                 PC3                       0.2\n",
       "3                 PC4                       0.2\n",
       "4                 PC5                       0.2"
      ]
     },
     "execution_count": 38,
     "metadata": {},
     "output_type": "execute_result"
    }
   ],
   "source": [
    "explained_variance_ratio = eigenvalues / np.sum(eigenvalues)\n",
    "\n",
    "explained_variance_df = pd.DataFrame({\n",
    "    'Principal Component': [f'PC{i+1}' for i in range(len(eigenvalues))],\n",
    "    'Explained Variance Ratio': explained_variance_ratio\n",
    "})\n",
    "explained_variance_df"
   ]
  }
 ],
 "metadata": {
  "kernelspec": {
   "display_name": "venv",
   "language": "python",
   "name": "python3"
  },
  "language_info": {
   "codemirror_mode": {
    "name": "ipython",
    "version": 3
   },
   "file_extension": ".py",
   "mimetype": "text/x-python",
   "name": "python",
   "nbconvert_exporter": "python",
   "pygments_lexer": "ipython3",
   "version": "3.11.8"
  }
 },
 "nbformat": 4,
 "nbformat_minor": 2
}
